{
  "nbformat": 4,
  "nbformat_minor": 0,
  "metadata": {
    "colab": {
      "provenance": [],
      "authorship_tag": "ABX9TyNa3xzLFgpfrQTmzhsRLdAT",
      "include_colab_link": true
    },
    "kernelspec": {
      "name": "python3",
      "display_name": "Python 3"
    },
    "language_info": {
      "name": "python"
    }
  },
  "cells": [
    {
      "cell_type": "markdown",
      "metadata": {
        "id": "view-in-github",
        "colab_type": "text"
      },
      "source": [
        "<a href=\"https://colab.research.google.com/github/Devanshi-Sharma12/SignLanguageDetection/blob/main/makedatabase1.ipynb\" target=\"_parent\"><img src=\"https://colab.research.google.com/assets/colab-badge.svg\" alt=\"Open In Colab\"/></a>"
      ]
    },
    {
      "cell_type": "code",
      "execution_count": null,
      "metadata": {
        "id": "keFQ9VucW8r0"
      },
      "outputs": [],
      "source": [
        "import os\n",
        "import mediapipe as mp\n",
        "import cv2\n",
        "import matplotlib.pyplot as plt\n",
        "\n",
        "mp_hands=mp.solutions.hands\n",
        "mp_drawing=mp.solutions.drawing_utils\n",
        "mp_drawing_styles=mp.solutions.drawing_styles\n",
        "\n",
        "hands=mp_hands.Hands(static_image_mode=True,min_detection_confidence=0.3)\n",
        "\n",
        "data_dir='./SignImage48x48'\n",
        "for dir_ in os.listdir(data_dir):\n",
        "    for img_path in os.listdir(os.path.join(data_dir,dir_))[:1]:\n",
        "        img=cv2.imread(os.path.join(data_dir,dir_,img_path))\n",
        "        img_rgb=cv2.cvtColor(img,cv2.COLOR_BGR2RGB)\n",
        "\n",
        "        results=hands.process(img_rgb)\n",
        "        if results.multi_hand_landmarks:\n",
        "            for hand_landmarks in results.multi_hand_landmarks:\n",
        "                mp_drawing.draw_landmarks(\n",
        "                    img_rgb,\n",
        "                    hand_landmarks,\n",
        "                    mp_hands.HAND_CONNECTIONS,\n",
        "                    mp_drawing_styles.get_default_hand_landmarks_style(),\n",
        "                    mp_drawing_styles.get_default_hand_connections_style()\n",
        "                )\n",
        "        plt.figure()\n",
        "        plt.imshow(img_rgb)\n",
        "plt.show()"
      ]
    }
  ]
}
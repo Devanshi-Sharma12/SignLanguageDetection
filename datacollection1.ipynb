{
  "nbformat": 4,
  "nbformat_minor": 0,
  "metadata": {
    "colab": {
      "provenance": [],
      "authorship_tag": "ABX9TyOx90V6h/vPrV8Gm37CtHCI",
      "include_colab_link": true
    },
    "kernelspec": {
      "name": "python3",
      "display_name": "Python 3"
    },
    "language_info": {
      "name": "python"
    }
  },
  "cells": [
    {
      "cell_type": "markdown",
      "metadata": {
        "id": "view-in-github",
        "colab_type": "text"
      },
      "source": [
        "<a href=\"https://colab.research.google.com/github/Devanshi-Sharma12/SignLanguageDetection/blob/main/datacollection1.ipynb\" target=\"_parent\"><img src=\"https://colab.research.google.com/assets/colab-badge.svg\" alt=\"Open In Colab\"/></a>"
      ]
    },
    {
      "cell_type": "code",
      "execution_count": null,
      "metadata": {
        "id": "b4XNSBKORbio"
      },
      "outputs": [],
      "source": [
        "import os\n",
        "import cv2\n",
        "data_dir='./SignImage48X48'\n",
        "if not os.path.exists(data_dir):\n",
        "    os.makedirs(data_dir)\n",
        "number_of_classes=5\n",
        "dataset_size=100\n",
        "cap=cv2.VideoCapture(0)\n",
        "for j in range(number_of_classes):\n",
        "    if not os.path.exists(os.path.join(data_dir,str(j))):\n",
        "        os.makedirs(os.path.join(data_dir,str(j)))\n",
        "\n",
        "    print('Collecting data for {}'.format(j))\n",
        "\n",
        "    done = False\n",
        "    while True:\n",
        "        ret,frame=cap.read()\n",
        "        cv2.putText(frame,'Press Q to start ! :)',(100,50),cv2.FONT_HERSHEY_SIMPLEX,1.3,(0,255,0),3,cv2.LINE_AA)\n",
        "        cv2.imshow('frame',frame)\n",
        "        if cv2.waitKey(25)==ord('q'):\n",
        "            break\n",
        "    counter=0\n",
        "    while counter<dataset_size:\n",
        "        ret,frame=cap.read()\n",
        "        cv2.imshow('frame',frame)\n",
        "        cv2.waitKey(25)\n",
        "        cv2.imwrite(os.path.join(data_dir,str(j),'{}.jpg'.format(counter)),frame)\n",
        "        counter+=1\n",
        "cap.release()\n",
        "cv2.destroyAllWindows()"
      ]
    }
  ]
}